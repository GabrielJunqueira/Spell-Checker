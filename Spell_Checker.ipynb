{
  "nbformat": 4,
  "nbformat_minor": 0,
  "metadata": {
    "colab": {
      "name": "Spell_Checker.ipynb",
      "provenance": [],
      "collapsed_sections": [
        "XsKDEN5Qe0nH",
        "nG6X2kxdewLm",
        "_yeZ2Fw_i1Kr",
        "KswIWciujAw0",
        "6Xst8KOEkXxx",
        "CEBuuqKQpA8f",
        "GbVWH518qeXI",
        "zV1lTEHTNqaw",
        "EVyAvLXg8An0",
        "VPNHgBfzmrl_",
        "geQhrtcswZUd"
      ],
      "authorship_tag": "ABX9TyMHryB2LNxm40AsOi8zBfKL",
      "include_colab_link": true
    },
    "kernelspec": {
      "name": "python3",
      "display_name": "Python 3"
    },
    "language_info": {
      "name": "python"
    }
  },
  "cells": [
    {
      "cell_type": "markdown",
      "metadata": {
        "id": "view-in-github",
        "colab_type": "text"
      },
      "source": [
        "<a href=\"https://colab.research.google.com/github/GabrielJunqueira/Spell-Checker/blob/main/Spell_Checker.ipynb\" target=\"_parent\"><img src=\"https://colab.research.google.com/assets/colab-badge.svg\" alt=\"Open In Colab\"/></a>"
      ]
    },
    {
      "cell_type": "markdown",
      "source": [
        "# Importing a Database"
      ],
      "metadata": {
        "id": "XsKDEN5Qe0nH"
      }
    },
    {
      "cell_type": "code",
      "execution_count": null,
      "metadata": {
        "id": "3OGDnkfLaewY"
      },
      "outputs": [],
      "source": [
        "#to make the spell checker work, it's necessary giving it a database. I will use an Alura's articles database"
      ]
    },
    {
      "cell_type": "code",
      "source": [
        "open(\"artigos.txt\", \"r\")"
      ],
      "metadata": {
        "id": "yZEcGOQdbbiz",
        "colab": {
          "base_uri": "https://localhost:8080/"
        },
        "outputId": "9e778698-87e4-4eb5-8492-bcfc5e005294"
      },
      "execution_count": null,
      "outputs": [
        {
          "output_type": "execute_result",
          "data": {
            "text/plain": [
              "<_io.TextIOWrapper name='artigos.txt' mode='r' encoding='UTF-8'>"
            ]
          },
          "metadata": {},
          "execution_count": 2
        }
      ]
    },
    {
      "cell_type": "code",
      "source": [
        "#opening and reading the article\n",
        "with open(\"artigos.txt\", \"r\") as f:\n",
        "  artigos = f.read()\n",
        "\n",
        "#printing the first 500 characters of the article\n",
        "print(artigos[:500])"
      ],
      "metadata": {
        "id": "jxkX7Ek8b8UM",
        "colab": {
          "base_uri": "https://localhost:8080/"
        },
        "outputId": "e890f14e-c155-494a-c837-d15fe253b178"
      },
      "execution_count": null,
      "outputs": [
        {
          "output_type": "stream",
          "name": "stdout",
          "text": [
            "\n",
            "\n",
            "\n",
            "imagem \n",
            "\n",
            "Temos a seguinte classe que representa um usuário no nosso sistema:\n",
            "\n",
            "java\n",
            "\n",
            "Para salvar um novo usuário, várias validações são feitas, como por exemplo: Ver se o nome só contém letras, [**o CPF só números**] e ver se o usuário possui no mínimo 18 anos. Veja o método que faz essa validação:\n",
            "\n",
            "java \n",
            "\n",
            "Suponha agora que eu tenha outra classe, a classe `Produto`, que contém um atributo nome e eu quero fazer a mesma validação que fiz para o nome do usuário: Ver se só contém letras. E aí? Vou\n"
          ]
        }
      ]
    },
    {
      "cell_type": "markdown",
      "source": [
        "# Tokens and Splitted Words"
      ],
      "metadata": {
        "id": "nG6X2kxdewLm"
      }
    },
    {
      "cell_type": "code",
      "source": [
        "#to give an example of what a token is:\n",
        "sentence_example = \"Hello, how are you?\"\n",
        "tokens = sentence_example.split()\n",
        "print(tokens)"
      ],
      "metadata": {
        "id": "4wvfrxz-c7Vw",
        "colab": {
          "base_uri": "https://localhost:8080/"
        },
        "outputId": "b45b34ef-147e-4333-87e7-636b2d235775"
      },
      "execution_count": null,
      "outputs": [
        {
          "output_type": "stream",
          "name": "stdout",
          "text": [
            "['Hello,', 'how', 'are', 'you?']\n"
          ]
        }
      ]
    },
    {
      "cell_type": "code",
      "source": [
        "#those are 4 tokens (they are not words because of the ',' and '?')"
      ],
      "metadata": {
        "id": "ut8o-TtMfZTq"
      },
      "execution_count": null,
      "outputs": []
    },
    {
      "cell_type": "code",
      "source": [
        "#I will use nltk methods to split the words from it's punctuation marks"
      ],
      "metadata": {
        "id": "5P4dEfHofnC2"
      },
      "execution_count": null,
      "outputs": []
    },
    {
      "cell_type": "code",
      "source": [
        "import nltk\n",
        "nltk.download('punkt')"
      ],
      "metadata": {
        "id": "mktDudtXgwY_",
        "colab": {
          "base_uri": "https://localhost:8080/"
        },
        "outputId": "e2e425d9-ed66-47de-93b5-c3aa5e685039"
      },
      "execution_count": null,
      "outputs": [
        {
          "output_type": "stream",
          "name": "stderr",
          "text": [
            "[nltk_data] Downloading package punkt to /root/nltk_data...\n",
            "[nltk_data]   Unzipping tokenizers/punkt.zip.\n"
          ]
        },
        {
          "output_type": "execute_result",
          "data": {
            "text/plain": [
              "True"
            ]
          },
          "metadata": {},
          "execution_count": 7
        }
      ]
    },
    {
      "cell_type": "code",
      "source": [
        "splitted_words = nltk.tokenize.word_tokenize(sentence_example)\n",
        "print(splitted_words)"
      ],
      "metadata": {
        "id": "-AmJj03_hGMi",
        "colab": {
          "base_uri": "https://localhost:8080/"
        },
        "outputId": "4b4531a7-be63-4716-dcc5-29c6cb51b960"
      },
      "execution_count": null,
      "outputs": [
        {
          "output_type": "stream",
          "name": "stdout",
          "text": [
            "['Hello', ',', 'how', 'are', 'you', '?']\n"
          ]
        }
      ]
    },
    {
      "cell_type": "markdown",
      "source": [
        "## Isalpha method"
      ],
      "metadata": {
        "id": "_yeZ2Fw_i1Kr"
      }
    },
    {
      "cell_type": "code",
      "source": [
        "#is alpha method:\n",
        "'palavra'.isalpha()"
      ],
      "metadata": {
        "id": "edYioynvilL5",
        "colab": {
          "base_uri": "https://localhost:8080/"
        },
        "outputId": "457d9671-7de0-418c-d249-f1a66dba2123"
      },
      "execution_count": null,
      "outputs": [
        {
          "output_type": "execute_result",
          "data": {
            "text/plain": [
              "True"
            ]
          },
          "metadata": {},
          "execution_count": 9
        }
      ]
    },
    {
      "cell_type": "code",
      "source": [
        "'palavra1'.isalpha()"
      ],
      "metadata": {
        "id": "19CqFwbtivPE",
        "colab": {
          "base_uri": "https://localhost:8080/"
        },
        "outputId": "dc24097e-3de2-44af-8003-7c44b89051ab"
      },
      "execution_count": null,
      "outputs": [
        {
          "output_type": "execute_result",
          "data": {
            "text/plain": [
              "False"
            ]
          },
          "metadata": {},
          "execution_count": 10
        }
      ]
    },
    {
      "cell_type": "code",
      "source": [
        "'?'.isalpha()"
      ],
      "metadata": {
        "id": "qdO9hOugi9Lr",
        "colab": {
          "base_uri": "https://localhost:8080/"
        },
        "outputId": "0eecf0c6-548d-436e-eee3-807def1dda0c"
      },
      "execution_count": null,
      "outputs": [
        {
          "output_type": "execute_result",
          "data": {
            "text/plain": [
              "False"
            ]
          },
          "metadata": {},
          "execution_count": 11
        }
      ]
    },
    {
      "cell_type": "markdown",
      "source": [
        "## Splitting the words from punctuation marks"
      ],
      "metadata": {
        "id": "KswIWciujAw0"
      }
    },
    {
      "cell_type": "code",
      "source": [
        "def splitting_words(tokens_list):\n",
        "  words_list = []\n",
        "  for token in tokens_list:\n",
        "    if token.isalpha():\n",
        "      words_list.append(token)\n",
        "  return words_list"
      ],
      "metadata": {
        "id": "-SJaX0sniCB7"
      },
      "execution_count": null,
      "outputs": []
    },
    {
      "cell_type": "code",
      "source": [
        "splitting_words(splitted_words)"
      ],
      "metadata": {
        "id": "P-8or9n4iRT1",
        "colab": {
          "base_uri": "https://localhost:8080/"
        },
        "outputId": "6d60da3b-be72-4f00-a1f2-47fe36ab4283"
      },
      "execution_count": null,
      "outputs": [
        {
          "output_type": "execute_result",
          "data": {
            "text/plain": [
              "['Hello', 'how', 'are', 'you']"
            ]
          },
          "metadata": {},
          "execution_count": 13
        }
      ]
    },
    {
      "cell_type": "markdown",
      "source": [
        "## Counting the number of words of the database"
      ],
      "metadata": {
        "id": "6Xst8KOEkXxx"
      }
    },
    {
      "cell_type": "code",
      "source": [
        "tokens_article = nltk.tokenize.word_tokenize(artigos)\n",
        "#splitted_words = nltk.tokenize.word_tokenize(sentence_example)"
      ],
      "metadata": {
        "id": "cj-ZUoE3jmLU"
      },
      "execution_count": null,
      "outputs": []
    },
    {
      "cell_type": "code",
      "source": [
        "tokens_article[:15]"
      ],
      "metadata": {
        "id": "mBFELCIYlBi6",
        "colab": {
          "base_uri": "https://localhost:8080/"
        },
        "outputId": "305035ff-c5f1-41e7-8801-fcc7dc733aee"
      },
      "execution_count": null,
      "outputs": [
        {
          "output_type": "execute_result",
          "data": {
            "text/plain": [
              "['imagem',\n",
              " 'Temos',\n",
              " 'a',\n",
              " 'seguinte',\n",
              " 'classe',\n",
              " 'que',\n",
              " 'representa',\n",
              " 'um',\n",
              " 'usuário',\n",
              " 'no',\n",
              " 'nosso',\n",
              " 'sistema',\n",
              " ':',\n",
              " 'java',\n",
              " 'Para']"
            ]
          },
          "metadata": {},
          "execution_count": 15
        }
      ]
    },
    {
      "cell_type": "code",
      "source": [
        "words_list = splitting_words(tokens_article)\n",
        "print(f\"The article has {len(words_list)} words\")"
      ],
      "metadata": {
        "id": "X-Av54xylXEq",
        "colab": {
          "base_uri": "https://localhost:8080/"
        },
        "outputId": "f72209dc-d889-4e62-9f42-c9995af8742f"
      },
      "execution_count": null,
      "outputs": [
        {
          "output_type": "stream",
          "name": "stdout",
          "text": [
            "The article has 403031 words\n"
          ]
        }
      ]
    },
    {
      "cell_type": "markdown",
      "source": [
        "## Normalizing the words"
      ],
      "metadata": {
        "id": "CEBuuqKQpA8f"
      }
    },
    {
      "cell_type": "code",
      "source": [
        "def normalize(words_list):\n",
        "  normalized_words_list = []\n",
        "  for word in words_list:\n",
        "    normalized_words_list.append(word.lower())\n",
        "  return normalized_words_list"
      ],
      "metadata": {
        "id": "9Ouc3me3o6We"
      },
      "execution_count": null,
      "outputs": []
    },
    {
      "cell_type": "code",
      "source": [
        "print(normalize(words_list)[:5])"
      ],
      "metadata": {
        "colab": {
          "base_uri": "https://localhost:8080/"
        },
        "id": "6lKsIz2NpXm7",
        "outputId": "dec29d32-6d40-4267-de56-91aa26abb39d"
      },
      "execution_count": null,
      "outputs": [
        {
          "output_type": "stream",
          "name": "stdout",
          "text": [
            "['imagem', 'temos', 'a', 'seguinte', 'classe']\n"
          ]
        }
      ]
    },
    {
      "cell_type": "code",
      "source": [
        "n_words_list = normalize(words_list)"
      ],
      "metadata": {
        "id": "-LoDWClup6pF"
      },
      "execution_count": null,
      "outputs": []
    },
    {
      "cell_type": "code",
      "source": [
        "print(n_words_list[:50])"
      ],
      "metadata": {
        "colab": {
          "base_uri": "https://localhost:8080/"
        },
        "id": "mlKLMnXnqRXC",
        "outputId": "42376502-9e5f-434b-bdb2-c151b6d6286f"
      },
      "execution_count": null,
      "outputs": [
        {
          "output_type": "stream",
          "name": "stdout",
          "text": [
            "['imagem', 'temos', 'a', 'seguinte', 'classe', 'que', 'representa', 'um', 'usuário', 'no', 'nosso', 'sistema', 'java', 'para', 'salvar', 'um', 'novo', 'usuário', 'várias', 'validações', 'são', 'feitas', 'como', 'por', 'exemplo', 'ver', 'se', 'o', 'nome', 'só', 'contém', 'letras', 'o', 'cpf', 'só', 'números', 'e', 'ver', 'se', 'o', 'usuário', 'possui', 'no', 'mínimo', 'anos', 'veja', 'o', 'método', 'que', 'faz']\n"
          ]
        }
      ]
    },
    {
      "cell_type": "markdown",
      "source": [
        "## Removing repeated words"
      ],
      "metadata": {
        "id": "GbVWH518qeXI"
      }
    },
    {
      "cell_type": "code",
      "source": [
        "#how does a set work\n",
        "list5 = [1,1,1,2,2,3,4,4,5,5,5,6,6]\n",
        "set(list5)"
      ],
      "metadata": {
        "colab": {
          "base_uri": "https://localhost:8080/"
        },
        "id": "qUrTQEk7qWHt",
        "outputId": "7ea84c5d-9bb5-487e-a7c9-de462a226bb4"
      },
      "execution_count": null,
      "outputs": [
        {
          "output_type": "execute_result",
          "data": {
            "text/plain": [
              "{1, 2, 3, 4, 5, 6}"
            ]
          },
          "metadata": {},
          "execution_count": 21
        }
      ]
    },
    {
      "cell_type": "code",
      "source": [
        "len(set(n_words_list))"
      ],
      "metadata": {
        "colab": {
          "base_uri": "https://localhost:8080/"
        },
        "id": "6USPuVnGrEhq",
        "outputId": "10cc4fc7-f2af-4ba3-da42-d399141c5684"
      },
      "execution_count": null,
      "outputs": [
        {
          "output_type": "execute_result",
          "data": {
            "text/plain": [
              "18464"
            ]
          },
          "metadata": {},
          "execution_count": 22
        }
      ]
    },
    {
      "cell_type": "code",
      "source": [
        "print(f\"This article has {len(set(n_words_list))} different words\")"
      ],
      "metadata": {
        "colab": {
          "base_uri": "https://localhost:8080/"
        },
        "id": "AOL348KBrMeI",
        "outputId": "4baf33f9-8fd7-49fc-b4f5-b1c90aad73c5"
      },
      "execution_count": null,
      "outputs": [
        {
          "output_type": "stream",
          "name": "stdout",
          "text": [
            "This article has 18464 different words\n"
          ]
        }
      ]
    },
    {
      "cell_type": "markdown",
      "source": [
        "# Algoritmo Gerador de Palavras"
      ],
      "metadata": {
        "id": "zV1lTEHTNqaw"
      }
    },
    {
      "cell_type": "code",
      "source": [
        "lista = \"lgica\"\n",
        "lista[1:3]"
      ],
      "metadata": {
        "colab": {
          "base_uri": "https://localhost:8080/",
          "height": 35
        },
        "id": "rBw6Hl8UQJrG",
        "outputId": "e6fe7a02-2b57-4adf-e63f-2ec045ecad35"
      },
      "execution_count": null,
      "outputs": [
        {
          "output_type": "execute_result",
          "data": {
            "text/plain": [
              "'gi'"
            ],
            "application/vnd.google.colaboratory.intrinsic+json": {
              "type": "string"
            }
          },
          "metadata": {},
          "execution_count": 24
        }
      ]
    },
    {
      "cell_type": "code",
      "source": [
        "lista = \"lgica\"\n",
        "(lista[:1], lista[1:])"
      ],
      "metadata": {
        "colab": {
          "base_uri": "https://localhost:8080/"
        },
        "id": "yrxSZdHRQiq0",
        "outputId": "62712d24-de6d-40f8-aad7-7fb15895eb77"
      },
      "execution_count": null,
      "outputs": [
        {
          "output_type": "execute_result",
          "data": {
            "text/plain": [
              "('l', 'gica')"
            ]
          },
          "metadata": {},
          "execution_count": 25
        }
      ]
    },
    {
      "cell_type": "markdown",
      "source": [
        "**Montando a função que gera novas palavras**"
      ],
      "metadata": {
        "id": "aFwoFusMRytm"
      }
    },
    {
      "cell_type": "markdown",
      "source": [
        "**Primeiro, as palavras fatiadas**"
      ],
      "metadata": {
        "id": "VPfCLul8R7WN"
      }
    },
    {
      "cell_type": "code",
      "source": [
        "palavra_exemplo = \"lgica\"\n",
        "\n",
        "def gerador_palavras(palavra):\n",
        "  fatias = []\n",
        "  for i in range(len(palavra) + 1):\n",
        "    fatias.append((lista[:i], lista[i:]))\n",
        "  #palavras_geradas = insere_letras(fatias)\n",
        "  return fatias"
      ],
      "metadata": {
        "id": "ZitzHFXfrcPx"
      },
      "execution_count": null,
      "outputs": []
    },
    {
      "cell_type": "code",
      "source": [
        "#teste para ver se está fatiando corretamente\n",
        "gerador_palavras(\"lgica\")"
      ],
      "metadata": {
        "colab": {
          "base_uri": "https://localhost:8080/"
        },
        "id": "8eoXSluARtMX",
        "outputId": "2c33fff0-1741-4599-83b4-c6d28f68828c"
      },
      "execution_count": null,
      "outputs": [
        {
          "output_type": "execute_result",
          "data": {
            "text/plain": [
              "[('', 'lgica'),\n",
              " ('l', 'gica'),\n",
              " ('lg', 'ica'),\n",
              " ('lgi', 'ca'),\n",
              " ('lgic', 'a'),\n",
              " ('lgica', '')]"
            ]
          },
          "metadata": {},
          "execution_count": 27
        }
      ]
    },
    {
      "cell_type": "markdown",
      "source": [
        "**Continuando a função**"
      ],
      "metadata": {
        "id": "yPsXTZBaSDWL"
      }
    },
    {
      "cell_type": "markdown",
      "source": [
        "**Operação de Inserção de Letras**"
      ],
      "metadata": {
        "id": "sys-ZX5-Stm6"
      }
    },
    {
      "cell_type": "code",
      "source": [
        "def gerador_palavras(palavra):\n",
        "  fatias = []\n",
        "  for i in range(len(palavra) + 1):\n",
        "    fatias.append((palavra[:i], palavra[i:]))\n",
        "    palavras_geradas = insere_letras(fatias)\n",
        "  return palavras_geradas\n",
        "\n",
        "\n",
        "def insere_letras(fatias):\n",
        "  novas_palavras = []\n",
        "  letras = 'abcdefghijklmnopqrstuvwxyzáâàãéêíîóôõúûç'\n",
        "  for Esq, Dir in fatias:\n",
        "    for letra in letras:\n",
        "      novas_palavras.append(Esq + letra + Dir)\n",
        "  return novas_palavras"
      ],
      "metadata": {
        "id": "eextPgP2PM5l"
      },
      "execution_count": null,
      "outputs": []
    },
    {
      "cell_type": "code",
      "source": [
        "gerador_palavras(\"lgica\")"
      ],
      "metadata": {
        "id": "AzspVFGbRglV",
        "colab": {
          "base_uri": "https://localhost:8080/"
        },
        "outputId": "f84d34fc-b87c-4af9-f3b9-ceff66e350ea"
      },
      "execution_count": null,
      "outputs": [
        {
          "output_type": "execute_result",
          "data": {
            "text/plain": [
              "['algica',\n",
              " 'blgica',\n",
              " 'clgica',\n",
              " 'dlgica',\n",
              " 'elgica',\n",
              " 'flgica',\n",
              " 'glgica',\n",
              " 'hlgica',\n",
              " 'ilgica',\n",
              " 'jlgica',\n",
              " 'klgica',\n",
              " 'llgica',\n",
              " 'mlgica',\n",
              " 'nlgica',\n",
              " 'olgica',\n",
              " 'plgica',\n",
              " 'qlgica',\n",
              " 'rlgica',\n",
              " 'slgica',\n",
              " 'tlgica',\n",
              " 'ulgica',\n",
              " 'vlgica',\n",
              " 'wlgica',\n",
              " 'xlgica',\n",
              " 'ylgica',\n",
              " 'zlgica',\n",
              " 'álgica',\n",
              " 'âlgica',\n",
              " 'àlgica',\n",
              " 'ãlgica',\n",
              " 'élgica',\n",
              " 'êlgica',\n",
              " 'ílgica',\n",
              " 'îlgica',\n",
              " 'ólgica',\n",
              " 'ôlgica',\n",
              " 'õlgica',\n",
              " 'úlgica',\n",
              " 'ûlgica',\n",
              " 'çlgica',\n",
              " 'lagica',\n",
              " 'lbgica',\n",
              " 'lcgica',\n",
              " 'ldgica',\n",
              " 'legica',\n",
              " 'lfgica',\n",
              " 'lggica',\n",
              " 'lhgica',\n",
              " 'ligica',\n",
              " 'ljgica',\n",
              " 'lkgica',\n",
              " 'llgica',\n",
              " 'lmgica',\n",
              " 'lngica',\n",
              " 'logica',\n",
              " 'lpgica',\n",
              " 'lqgica',\n",
              " 'lrgica',\n",
              " 'lsgica',\n",
              " 'ltgica',\n",
              " 'lugica',\n",
              " 'lvgica',\n",
              " 'lwgica',\n",
              " 'lxgica',\n",
              " 'lygica',\n",
              " 'lzgica',\n",
              " 'lágica',\n",
              " 'lâgica',\n",
              " 'làgica',\n",
              " 'lãgica',\n",
              " 'légica',\n",
              " 'lêgica',\n",
              " 'lígica',\n",
              " 'lîgica',\n",
              " 'lógica',\n",
              " 'lôgica',\n",
              " 'lõgica',\n",
              " 'lúgica',\n",
              " 'lûgica',\n",
              " 'lçgica',\n",
              " 'lgaica',\n",
              " 'lgbica',\n",
              " 'lgcica',\n",
              " 'lgdica',\n",
              " 'lgeica',\n",
              " 'lgfica',\n",
              " 'lggica',\n",
              " 'lghica',\n",
              " 'lgiica',\n",
              " 'lgjica',\n",
              " 'lgkica',\n",
              " 'lglica',\n",
              " 'lgmica',\n",
              " 'lgnica',\n",
              " 'lgoica',\n",
              " 'lgpica',\n",
              " 'lgqica',\n",
              " 'lgrica',\n",
              " 'lgsica',\n",
              " 'lgtica',\n",
              " 'lguica',\n",
              " 'lgvica',\n",
              " 'lgwica',\n",
              " 'lgxica',\n",
              " 'lgyica',\n",
              " 'lgzica',\n",
              " 'lgáica',\n",
              " 'lgâica',\n",
              " 'lgàica',\n",
              " 'lgãica',\n",
              " 'lgéica',\n",
              " 'lgêica',\n",
              " 'lgíica',\n",
              " 'lgîica',\n",
              " 'lgóica',\n",
              " 'lgôica',\n",
              " 'lgõica',\n",
              " 'lgúica',\n",
              " 'lgûica',\n",
              " 'lgçica',\n",
              " 'lgiaca',\n",
              " 'lgibca',\n",
              " 'lgicca',\n",
              " 'lgidca',\n",
              " 'lgieca',\n",
              " 'lgifca',\n",
              " 'lgigca',\n",
              " 'lgihca',\n",
              " 'lgiica',\n",
              " 'lgijca',\n",
              " 'lgikca',\n",
              " 'lgilca',\n",
              " 'lgimca',\n",
              " 'lginca',\n",
              " 'lgioca',\n",
              " 'lgipca',\n",
              " 'lgiqca',\n",
              " 'lgirca',\n",
              " 'lgisca',\n",
              " 'lgitca',\n",
              " 'lgiuca',\n",
              " 'lgivca',\n",
              " 'lgiwca',\n",
              " 'lgixca',\n",
              " 'lgiyca',\n",
              " 'lgizca',\n",
              " 'lgiáca',\n",
              " 'lgiâca',\n",
              " 'lgiàca',\n",
              " 'lgiãca',\n",
              " 'lgiéca',\n",
              " 'lgiêca',\n",
              " 'lgiíca',\n",
              " 'lgiîca',\n",
              " 'lgióca',\n",
              " 'lgiôca',\n",
              " 'lgiõca',\n",
              " 'lgiúca',\n",
              " 'lgiûca',\n",
              " 'lgiçca',\n",
              " 'lgicaa',\n",
              " 'lgicba',\n",
              " 'lgicca',\n",
              " 'lgicda',\n",
              " 'lgicea',\n",
              " 'lgicfa',\n",
              " 'lgicga',\n",
              " 'lgicha',\n",
              " 'lgicia',\n",
              " 'lgicja',\n",
              " 'lgicka',\n",
              " 'lgicla',\n",
              " 'lgicma',\n",
              " 'lgicna',\n",
              " 'lgicoa',\n",
              " 'lgicpa',\n",
              " 'lgicqa',\n",
              " 'lgicra',\n",
              " 'lgicsa',\n",
              " 'lgicta',\n",
              " 'lgicua',\n",
              " 'lgicva',\n",
              " 'lgicwa',\n",
              " 'lgicxa',\n",
              " 'lgicya',\n",
              " 'lgicza',\n",
              " 'lgicáa',\n",
              " 'lgicâa',\n",
              " 'lgicàa',\n",
              " 'lgicãa',\n",
              " 'lgicéa',\n",
              " 'lgicêa',\n",
              " 'lgicía',\n",
              " 'lgicîa',\n",
              " 'lgicóa',\n",
              " 'lgicôa',\n",
              " 'lgicõa',\n",
              " 'lgicúa',\n",
              " 'lgicûa',\n",
              " 'lgicça',\n",
              " 'lgicaa',\n",
              " 'lgicab',\n",
              " 'lgicac',\n",
              " 'lgicad',\n",
              " 'lgicae',\n",
              " 'lgicaf',\n",
              " 'lgicag',\n",
              " 'lgicah',\n",
              " 'lgicai',\n",
              " 'lgicaj',\n",
              " 'lgicak',\n",
              " 'lgical',\n",
              " 'lgicam',\n",
              " 'lgican',\n",
              " 'lgicao',\n",
              " 'lgicap',\n",
              " 'lgicaq',\n",
              " 'lgicar',\n",
              " 'lgicas',\n",
              " 'lgicat',\n",
              " 'lgicau',\n",
              " 'lgicav',\n",
              " 'lgicaw',\n",
              " 'lgicax',\n",
              " 'lgicay',\n",
              " 'lgicaz',\n",
              " 'lgicaá',\n",
              " 'lgicaâ',\n",
              " 'lgicaà',\n",
              " 'lgicaã',\n",
              " 'lgicaé',\n",
              " 'lgicaê',\n",
              " 'lgicaí',\n",
              " 'lgicaî',\n",
              " 'lgicaó',\n",
              " 'lgicaô',\n",
              " 'lgicaõ',\n",
              " 'lgicaú',\n",
              " 'lgicaû',\n",
              " 'lgicaç']"
            ]
          },
          "metadata": {},
          "execution_count": 29
        }
      ]
    },
    {
      "cell_type": "markdown",
      "source": [
        "# Corretor and Probabilidade Methods\n",
        "\n"
      ],
      "metadata": {
        "id": "EVyAvLXg8An0"
      }
    },
    {
      "cell_type": "markdown",
      "source": [
        "**Now, we need a method that chooses the correct word in that list to correct, in the example the word 'lógica'**"
      ],
      "metadata": {
        "id": "-EHGV8M_8Oea"
      }
    },
    {
      "cell_type": "code",
      "source": [
        "def corretor(palavra):\n",
        "  palavras_geradas = gerador_palavras(palavra)\n",
        "  palavra_correta = max(palavras_geradas, key=probabilidade)\n",
        "  return palavra_correta"
      ],
      "metadata": {
        "id": "9dX9w0mH6LQp"
      },
      "execution_count": null,
      "outputs": []
    },
    {
      "cell_type": "code",
      "source": [
        "#função max() do python retorna o elemento de máxima probabilidade"
      ],
      "metadata": {
        "id": "A0mLFX-989S8"
      },
      "execution_count": null,
      "outputs": []
    },
    {
      "cell_type": "code",
      "source": [
        "#a probabilidade de uma palavra será a frequência da palavra/total de palavras"
      ],
      "metadata": {
        "id": "YV8gN2iQ9mcf"
      },
      "execution_count": null,
      "outputs": []
    },
    {
      "cell_type": "code",
      "source": [
        "#o método FreqDist do nltk calcula a distribuição de frequências das palavras, passa-se como parâmetro a lista de palavras"
      ],
      "metadata": {
        "id": "vPLl-ON8-Tpx"
      },
      "execution_count": null,
      "outputs": []
    },
    {
      "cell_type": "code",
      "source": [
        "frequencia = nltk.FreqDist(n_words_list)"
      ],
      "metadata": {
        "id": "as3yNtGs-k6Z"
      },
      "execution_count": null,
      "outputs": []
    },
    {
      "cell_type": "code",
      "source": [
        "frequencia.most_common(10)"
      ],
      "metadata": {
        "colab": {
          "base_uri": "https://localhost:8080/"
        },
        "id": "2FEvhKXW-yfL",
        "outputId": "5cf10ba4-f4d7-4add-fe37-996d24168e33"
      },
      "execution_count": null,
      "outputs": [
        {
          "output_type": "execute_result",
          "data": {
            "text/plain": [
              "[('de', 15502),\n",
              " ('o', 14056),\n",
              " ('que', 12230),\n",
              " ('a', 11099),\n",
              " ('e', 10501),\n",
              " ('para', 7710),\n",
              " ('um', 6367),\n",
              " ('é', 5899),\n",
              " ('uma', 5220),\n",
              " ('do', 5124)]"
            ]
          },
          "metadata": {},
          "execution_count": 35
        }
      ]
    },
    {
      "cell_type": "code",
      "source": [
        "frequencia[\"lógica\"]"
      ],
      "metadata": {
        "colab": {
          "base_uri": "https://localhost:8080/"
        },
        "id": "MmkMO5qt_EC9",
        "outputId": "54304698-d299-4ee4-bada-c2ad28e586f5"
      },
      "execution_count": null,
      "outputs": [
        {
          "output_type": "execute_result",
          "data": {
            "text/plain": [
              "96"
            ]
          },
          "metadata": {},
          "execution_count": 36
        }
      ]
    },
    {
      "cell_type": "code",
      "source": [
        "#lógica aparece 96 vezes no nosso database"
      ],
      "metadata": {
        "id": "d5yIudIl_RGu"
      },
      "execution_count": null,
      "outputs": []
    },
    {
      "cell_type": "code",
      "source": [
        "total_de_palavras = len(n_words_list)\n",
        "\n",
        "def probabilidade(palavra_gerada):\n",
        "  return frequencia[palavra_gerada]/total_de_palavras"
      ],
      "metadata": {
        "id": "gHP_un4m_XSc"
      },
      "execution_count": null,
      "outputs": []
    },
    {
      "cell_type": "code",
      "source": [
        "probabilidade(\"lógica\")"
      ],
      "metadata": {
        "colab": {
          "base_uri": "https://localhost:8080/"
        },
        "id": "zOPmf6o7AESX",
        "outputId": "3329dd9c-9d81-4c6a-a241-547546b6c5db"
      },
      "execution_count": null,
      "outputs": [
        {
          "output_type": "execute_result",
          "data": {
            "text/plain": [
              "0.00023819507680550628"
            ]
          },
          "metadata": {},
          "execution_count": 39
        }
      ]
    },
    {
      "cell_type": "code",
      "source": [
        "corretor(\"lgica\")"
      ],
      "metadata": {
        "colab": {
          "base_uri": "https://localhost:8080/",
          "height": 35
        },
        "id": "nvioF4fgAyFP",
        "outputId": "804b4f19-f51e-4a0b-c326-697901615984"
      },
      "execution_count": null,
      "outputs": [
        {
          "output_type": "execute_result",
          "data": {
            "text/plain": [
              "'lógica'"
            ],
            "application/vnd.google.colaboratory.intrinsic+json": {
              "type": "string"
            }
          },
          "metadata": {},
          "execution_count": 40
        }
      ]
    },
    {
      "cell_type": "markdown",
      "source": [
        "# Evaluating the Spell Checker"
      ],
      "metadata": {
        "id": "i1P0840PCwg_"
      }
    },
    {
      "cell_type": "code",
      "source": [
        "#função que prepara os dados para a função avaliadora (pega dados do arquivo palavras.txt)\n",
        "def cria_dados_teste(nome_arquivo):\n",
        "  lista_palavras_teste = []\n",
        "  f = open(nome_arquivo, \"r\")\n",
        "  for linha in f:\n",
        "    correta, errada = linha.split()\n",
        "    lista_palavras_teste.append((correta, errada))\n",
        "  f.close()\n",
        "  return lista_palavras_teste"
      ],
      "metadata": {
        "id": "atWuttihBYHf"
      },
      "execution_count": null,
      "outputs": []
    },
    {
      "cell_type": "code",
      "source": [
        "lista_teste = cria_dados_teste(\"palavras.txt\")\n",
        "lista_teste"
      ],
      "metadata": {
        "colab": {
          "base_uri": "https://localhost:8080/"
        },
        "id": "_AgKz8ZYEUYg",
        "outputId": "86369700-523e-4e4b-9d60-19c2c1f21934"
      },
      "execution_count": null,
      "outputs": [
        {
          "output_type": "execute_result",
          "data": {
            "text/plain": [
              "[('podemos', 'pyodemos'),\n",
              " ('esse', 'esje'),\n",
              " ('já', 'jrá'),\n",
              " ('nosso', 'nossov'),\n",
              " ('são', 'sãêo'),\n",
              " ('dos', 'dosa'),\n",
              " ('muito', 'muifo'),\n",
              " ('imagem', 'iômagem'),\n",
              " ('sua', 'ósua'),\n",
              " ('também', 'tambéùm'),\n",
              " ('ele', 'eme'),\n",
              " ('fazer', 'èazer'),\n",
              " ('temos', 'temfs'),\n",
              " ('essa', 'eàssa'),\n",
              " ('quando', 'quaôdo'),\n",
              " ('vamos', 'vamvos'),\n",
              " ('sobre', 'hsobre'),\n",
              " ('java', 'sjava'),\n",
              " ('das', 'daõs'),\n",
              " ('agora', 'agorah'),\n",
              " ('está', 'eòtá'),\n",
              " ('cada', 'céda'),\n",
              " ('mesmo', 'zmesmo'),\n",
              " ('nos', 'noâ'),\n",
              " ('forma', 'fobma'),\n",
              " ('seja', 'sejéa'),\n",
              " ('então', 'enêão'),\n",
              " ('criar', 'èriar'),\n",
              " ('código', 'cóeigo'),\n",
              " ('caso', 'casío'),\n",
              " ('exemplo', 'áexemplo'),\n",
              " ('tem', 'tĩem'),\n",
              " ('usuário', 'usuárôio'),\n",
              " ('dados', 'dfados'),\n",
              " ('python', 'pgthon'),\n",
              " ('nossa', 'nossah'),\n",
              " ('além', 'alémè'),\n",
              " ('assim', 'asõim'),\n",
              " ('ter', 'teb'),\n",
              " ('até', 'atĩ'),\n",
              " ('bem', 'âem'),\n",
              " ('design', 'desigen'),\n",
              " ('trabalho', 'trabalàho'),\n",
              " ('foi', 'foo'),\n",
              " ('apenas', 'apenaũ'),\n",
              " ('empresa', 'empresà'),\n",
              " ('valor', 'valíor'),\n",
              " ('será', 'serr'),\n",
              " ('entre', 'entke'),\n",
              " ('método', 'méqodo'),\n",
              " ('precisamos', 'precisamops'),\n",
              " ('ainda', 'ainàa'),\n",
              " ('vai', 'van'),\n",
              " ('conteúdo', 'ûconteúdo'),\n",
              " ('seus', 'çeus'),\n",
              " ('eu', 'eû'),\n",
              " ('todos', 'todtos'),\n",
              " ('tempo', 'temeo'),\n",
              " ('sempre', 'semre'),\n",
              " ('qual', 'quakl'),\n",
              " ('ela', 'elaá'),\n",
              " ('só', 'síó'),\n",
              " ('utilizar', 'utiqizar'),\n",
              " ('projeto', 'prhojeto'),\n",
              " ('site', 'siàe'),\n",
              " ('sem', 'seém'),\n",
              " ('pelo', 'peln'),\n",
              " ('alura', 'aléra'),\n",
              " ('dia', 'tdia'),\n",
              " ('tudo', 'tuúo'),\n",
              " ('podemos', 'kpodemos'),\n",
              " ('esse', 'eẽsse'),\n",
              " ('já', 'jé'),\n",
              " ('nosso', 'nçosso'),\n",
              " ('são', 'sãô'),\n",
              " ('dos', 'odos'),\n",
              " ('muito', 'tuito'),\n",
              " ('imagem', 'imõgem'),\n",
              " ('sua', 'siua'),\n",
              " ('também', 'tamvbém'),\n",
              " ('ele', 'elpe'),\n",
              " ('fazer', 'façzer'),\n",
              " ('temos', 'teos'),\n",
              " ('essa', 'eũsa'),\n",
              " ('quando', 'quaìdo'),\n",
              " ('vamos', 'vjmos'),\n",
              " ('sobre', 'sxobre'),\n",
              " ('java', 'jkva'),\n",
              " ('das', 'dms'),\n",
              " ('agora', 'agtora'),\n",
              " ('está', 'esútá'),\n",
              " ('cada', 'cava'),\n",
              " ('mesmo', 'medmo'),\n",
              " ('nos', 'ános'),\n",
              " ('forma', 'forûa'),\n",
              " ('seja', 'smeja'),\n",
              " ('então', 'enjtão'),\n",
              " ('criar', 'criôar'),\n",
              " ('código', 'cóàigo'),\n",
              " ('caso', 'èaso'),\n",
              " ('exemplo', 'exbemplo'),\n",
              " ('tem', 'túem'),\n",
              " ('usuário', 'usuárin'),\n",
              " ('dados', 'daáos'),\n",
              " ('python', 'pythoçn'),\n",
              " ('nossa', 'nossk'),\n",
              " ('além', 'âlém'),\n",
              " ('assim', 'aóssim'),\n",
              " ('ter', 'tãer'),\n",
              " ('até', 'vté'),\n",
              " ('bem', 'búm'),\n",
              " ('design', 'íesign'),\n",
              " ('trabalho', 'trabèalho'),\n",
              " ('foi', 'kfoi'),\n",
              " ('apenas', 'aapenas'),\n",
              " ('empresa', 'pmpresa'),\n",
              " ('valor', 'valoqr'),\n",
              " ('será', 'sçerá'),\n",
              " ('entre', 'entró'),\n",
              " ('método', 'nétodo'),\n",
              " ('precisamos', 'prefcisamos'),\n",
              " ('ainda', 'sainda'),\n",
              " ('vai', 'uai'),\n",
              " ('conteúdo', 'cĩonteúdo'),\n",
              " ('seus', 'sâus'),\n",
              " ('eu', 'ìeu'),\n",
              " ('todos', 'todás'),\n",
              " ('tempo', 'utempo'),\n",
              " ('sempre', 'sempce'),\n",
              " ('qual', 'fual'),\n",
              " ('ela', 'elal'),\n",
              " ('só', 'skó'),\n",
              " ('utilizar', 'utilĩzar'),\n",
              " ('projeto', 'proójeto'),\n",
              " ('site', 'isite'),\n",
              " ('sem', 'secm'),\n",
              " ('pelo', 'pẽlo'),\n",
              " ('alura', 'aluéa'),\n",
              " ('dia', 'dil'),\n",
              " ('tudo', 'tudy'),\n",
              " ('ela', 'qelay'),\n",
              " ('só', 'sód'),\n",
              " ('utilizar', 'dtilizacr'),\n",
              " ('projeto', 'bprojõto'),\n",
              " ('site', 'ysiteo'),\n",
              " ('sem', 'sõêm'),\n",
              " ('pelo', 'peàli'),\n",
              " ('alura', 'asuraó'),\n",
              " ('dia', 'deiìa'),\n",
              " ('tudo', 'tuĩdoì'),\n",
              " ('ela', 'eúaa'),\n",
              " ('só', 'ró'),\n",
              " ('utilizar', 'utilizẽaçr'),\n",
              " ('projeto', 'prêjetó'),\n",
              " ('site', 'sqiqte'),\n",
              " ('sem', 'sũexm'),\n",
              " ('pelo', 'pçlxo'),\n",
              " ('alura', 'uluraa'),\n",
              " ('dia', 'dĩaz'),\n",
              " ('tudo', 'kzudo'),\n",
              " ('corretor', 'correptor'),\n",
              " ('tática', 'trtica'),\n",
              " ('empoderamento', 'ewpoderamento'),\n",
              " ('linux', 'lifux'),\n",
              " ('cachorro', 'cachoçro'),\n",
              " ('gato', 'îgato'),\n",
              " ('cavalo', 'cakvalo'),\n",
              " ('relógio', 'relógiuo'),\n",
              " ('canela', 'canelac'),\n",
              " ('tênis', 'tênisy'),\n",
              " ('ansiosa', 'anciosa'),\n",
              " ('ansiosa', 'ancciosa'),\n",
              " ('ansiosa', 'ansioa'),\n",
              " ('empoderamento', 'empoderamento'),\n",
              " ('asterisco', 'asterístico'),\n",
              " ('gratuito', 'gratuíto'),\n",
              " ('entretido', 'entertido'),\n",
              " ('ritmo', 'ritimo'),\n",
              " ('idiota', 'indiota'),\n",
              " ('tomara', 'tomare'),\n",
              " ('seja', 'seje'),\n",
              " ('prevalecer', 'provalecer'),\n",
              " ('esteja', 'esteje'),\n",
              " ('mendigo', 'mindigo'),\n",
              " ('cérebro', 'célebro'),\n",
              " ('perturbar', 'pertubar')]"
            ]
          },
          "metadata": {},
          "execution_count": 42
        }
      ]
    },
    {
      "cell_type": "code",
      "source": [
        "def avaliador(testes):\n",
        "  numero_palavras = len(testes)\n",
        "  acertou = 0\n",
        "  for correta, errada in testes:\n",
        "    if corretor(errada) == correta:\n",
        "      acertou = acertou +1\n",
        "  taxa_acerto = round(acertou*100/numero_palavras, 2)\n",
        "  print(f\"{taxa_acerto}% de {numero_palavras} palavras\")"
      ],
      "metadata": {
        "id": "IWBS-h_OFTZZ"
      },
      "execution_count": null,
      "outputs": []
    },
    {
      "cell_type": "code",
      "source": [
        "avaliador(lista_teste)"
      ],
      "metadata": {
        "colab": {
          "base_uri": "https://localhost:8080/"
        },
        "id": "3UfDWuyKHxvG",
        "outputId": "257cc737-ac62-41e0-e078-8f9129478d5f"
      },
      "execution_count": null,
      "outputs": [
        {
          "output_type": "stream",
          "name": "stdout",
          "text": [
            "1.08% de 186 palavras\n"
          ]
        }
      ]
    },
    {
      "cell_type": "markdown",
      "source": [
        "# Delete Operation"
      ],
      "metadata": {
        "id": "VPNHgBfzmrl_"
      }
    },
    {
      "cell_type": "code",
      "source": [
        "#We will do: Left + Right[1:]"
      ],
      "metadata": {
        "id": "AIy07XWWIIrY"
      },
      "execution_count": null,
      "outputs": []
    },
    {
      "cell_type": "code",
      "source": [
        "def gerador_palavras2(palavra):\n",
        "  fatias = []\n",
        "  for i in range(len(palavra)+1):\n",
        "    fatias.append((palavra[:i] , palavra[i:]))\n",
        "  palavras_geradas2 = deleting_characters(fatias)\n",
        "  return(palavras_geradas2)\n",
        "\n",
        "def deleting_characters(fatias):\n",
        "  new_words = []\n",
        "  for Esq, Dir in fatias:\n",
        "    new_words.append(Esq + Dir[1:])\n",
        "  return(new_words)"
      ],
      "metadata": {
        "id": "Kqzow4L7nBXW"
      },
      "execution_count": null,
      "outputs": []
    },
    {
      "cell_type": "code",
      "source": [
        "gerador_palavras2(\"lóagica\")"
      ],
      "metadata": {
        "colab": {
          "base_uri": "https://localhost:8080/"
        },
        "id": "PrNpErK9oFtv",
        "outputId": "fa09d424-5806-4dfc-bd4b-9ede449c7e10"
      },
      "execution_count": null,
      "outputs": [
        {
          "output_type": "execute_result",
          "data": {
            "text/plain": [
              "['óagica',\n",
              " 'lagica',\n",
              " 'lógica',\n",
              " 'lóaica',\n",
              " 'lóagca',\n",
              " 'lóagia',\n",
              " 'lóagic',\n",
              " 'lóagica']"
            ]
          },
          "metadata": {},
          "execution_count": 47
        }
      ]
    },
    {
      "cell_type": "markdown",
      "source": [
        "**Improving gerador_palavras method**"
      ],
      "metadata": {
        "id": "PEsE_Ae6q6aG"
      }
    },
    {
      "cell_type": "code",
      "source": [
        "def gerador_palavras(palavra):\n",
        "  fatias = []\n",
        "  for i in range(len(palavra) + 1):\n",
        "    fatias.append((palavra[:i], palavra[i:]))\n",
        "    palavras_geradas1 = insere_letras(fatias)\n",
        "    palavras_geradas2 = deleting_characters(fatias)\n",
        "  palavras_geradas = palavras_geradas1 + palavras_geradas2\n",
        "  return palavras_geradas"
      ],
      "metadata": {
        "id": "krBFWMO1oIxY"
      },
      "execution_count": null,
      "outputs": []
    },
    {
      "cell_type": "code",
      "source": [
        "corretor(\"lgica\")"
      ],
      "metadata": {
        "colab": {
          "base_uri": "https://localhost:8080/"
        },
        "id": "b77lxrI2rXKK",
        "outputId": "9ebf9ce0-f6ea-4dbc-fe70-8d0e595c22c3"
      },
      "execution_count": null,
      "outputs": [
        {
          "output_type": "execute_result",
          "data": {
            "text/plain": [
              "'lógica'"
            ],
            "application/vnd.google.colaboratory.intrinsic+json": {
              "type": "string"
            }
          },
          "metadata": {},
          "execution_count": 49
        }
      ]
    },
    {
      "cell_type": "code",
      "source": [
        "corretor(\"lóagica\")"
      ],
      "metadata": {
        "colab": {
          "base_uri": "https://localhost:8080/"
        },
        "id": "95o74r2RrcY2",
        "outputId": "5316df1e-5abb-46f2-eecf-016f575fcc20"
      },
      "execution_count": null,
      "outputs": [
        {
          "output_type": "execute_result",
          "data": {
            "text/plain": [
              "'lógica'"
            ],
            "application/vnd.google.colaboratory.intrinsic+json": {
              "type": "string"
            }
          },
          "metadata": {},
          "execution_count": 50
        }
      ]
    },
    {
      "cell_type": "code",
      "source": [
        "#evaluating our spell checker so far\n",
        "avaliador(lista_teste)"
      ],
      "metadata": {
        "colab": {
          "base_uri": "https://localhost:8080/"
        },
        "id": "1DkKnHP7sZJt",
        "outputId": "03f309ef-900c-4463-c50e-5fcdb57f58b4"
      },
      "execution_count": null,
      "outputs": [
        {
          "output_type": "stream",
          "name": "stdout",
          "text": [
            "41.4% de 186 palavras\n"
          ]
        }
      ]
    },
    {
      "cell_type": "markdown",
      "source": [
        "# Changing Letters Operation"
      ],
      "metadata": {
        "id": "geQhrtcswZUd"
      }
    },
    {
      "cell_type": "code",
      "source": [
        "#now, we'll do Left + Letter + Right[1:]"
      ],
      "metadata": {
        "id": "O-_Y8TVpwUq6"
      },
      "execution_count": null,
      "outputs": []
    },
    {
      "cell_type": "code",
      "source": [
        "def gerador_palavras3(palavra):\n",
        "  fatias = []\n",
        "  for i in range(len(palavra)+1):\n",
        "    fatias.append((palavra[:i] , palavra[i:]))\n",
        "  palavras_geradas3 = changing_characters(fatias)\n",
        "  return(palavras_geradas3)\n",
        "\n",
        "def changing_characters(fatias):\n",
        "  new_words = []\n",
        "  letras = 'abcdefghijklmnopqrstuvwxyzáâàãéêíîóôõúûç'\n",
        "  for Esq, Dir in fatias:\n",
        "    for letra in letras:\n",
        "      new_words.append(Esq + letra + Dir[1:])\n",
        "  return(new_words)"
      ],
      "metadata": {
        "id": "KYzXSQU7xsie"
      },
      "execution_count": null,
      "outputs": []
    },
    {
      "cell_type": "code",
      "source": [
        "gerador_palavras3('lagica')"
      ],
      "metadata": {
        "colab": {
          "base_uri": "https://localhost:8080/"
        },
        "id": "1K5Egl7WyqB-",
        "outputId": "886995c2-5bd1-4331-df63-f787f1fdeca8"
      },
      "execution_count": null,
      "outputs": [
        {
          "output_type": "execute_result",
          "data": {
            "text/plain": [
              "['aagica',\n",
              " 'bagica',\n",
              " 'cagica',\n",
              " 'dagica',\n",
              " 'eagica',\n",
              " 'fagica',\n",
              " 'gagica',\n",
              " 'hagica',\n",
              " 'iagica',\n",
              " 'jagica',\n",
              " 'kagica',\n",
              " 'lagica',\n",
              " 'magica',\n",
              " 'nagica',\n",
              " 'oagica',\n",
              " 'pagica',\n",
              " 'qagica',\n",
              " 'ragica',\n",
              " 'sagica',\n",
              " 'tagica',\n",
              " 'uagica',\n",
              " 'vagica',\n",
              " 'wagica',\n",
              " 'xagica',\n",
              " 'yagica',\n",
              " 'zagica',\n",
              " 'áagica',\n",
              " 'âagica',\n",
              " 'àagica',\n",
              " 'ãagica',\n",
              " 'éagica',\n",
              " 'êagica',\n",
              " 'íagica',\n",
              " 'îagica',\n",
              " 'óagica',\n",
              " 'ôagica',\n",
              " 'õagica',\n",
              " 'úagica',\n",
              " 'ûagica',\n",
              " 'çagica',\n",
              " 'lagica',\n",
              " 'lbgica',\n",
              " 'lcgica',\n",
              " 'ldgica',\n",
              " 'legica',\n",
              " 'lfgica',\n",
              " 'lggica',\n",
              " 'lhgica',\n",
              " 'ligica',\n",
              " 'ljgica',\n",
              " 'lkgica',\n",
              " 'llgica',\n",
              " 'lmgica',\n",
              " 'lngica',\n",
              " 'logica',\n",
              " 'lpgica',\n",
              " 'lqgica',\n",
              " 'lrgica',\n",
              " 'lsgica',\n",
              " 'ltgica',\n",
              " 'lugica',\n",
              " 'lvgica',\n",
              " 'lwgica',\n",
              " 'lxgica',\n",
              " 'lygica',\n",
              " 'lzgica',\n",
              " 'lágica',\n",
              " 'lâgica',\n",
              " 'làgica',\n",
              " 'lãgica',\n",
              " 'légica',\n",
              " 'lêgica',\n",
              " 'lígica',\n",
              " 'lîgica',\n",
              " 'lógica',\n",
              " 'lôgica',\n",
              " 'lõgica',\n",
              " 'lúgica',\n",
              " 'lûgica',\n",
              " 'lçgica',\n",
              " 'laaica',\n",
              " 'labica',\n",
              " 'lacica',\n",
              " 'ladica',\n",
              " 'laeica',\n",
              " 'lafica',\n",
              " 'lagica',\n",
              " 'lahica',\n",
              " 'laiica',\n",
              " 'lajica',\n",
              " 'lakica',\n",
              " 'lalica',\n",
              " 'lamica',\n",
              " 'lanica',\n",
              " 'laoica',\n",
              " 'lapica',\n",
              " 'laqica',\n",
              " 'larica',\n",
              " 'lasica',\n",
              " 'latica',\n",
              " 'lauica',\n",
              " 'lavica',\n",
              " 'lawica',\n",
              " 'laxica',\n",
              " 'layica',\n",
              " 'lazica',\n",
              " 'laáica',\n",
              " 'laâica',\n",
              " 'laàica',\n",
              " 'laãica',\n",
              " 'laéica',\n",
              " 'laêica',\n",
              " 'laíica',\n",
              " 'laîica',\n",
              " 'laóica',\n",
              " 'laôica',\n",
              " 'laõica',\n",
              " 'laúica',\n",
              " 'laûica',\n",
              " 'laçica',\n",
              " 'lagaca',\n",
              " 'lagbca',\n",
              " 'lagcca',\n",
              " 'lagdca',\n",
              " 'lageca',\n",
              " 'lagfca',\n",
              " 'laggca',\n",
              " 'laghca',\n",
              " 'lagica',\n",
              " 'lagjca',\n",
              " 'lagkca',\n",
              " 'laglca',\n",
              " 'lagmca',\n",
              " 'lagnca',\n",
              " 'lagoca',\n",
              " 'lagpca',\n",
              " 'lagqca',\n",
              " 'lagrca',\n",
              " 'lagsca',\n",
              " 'lagtca',\n",
              " 'laguca',\n",
              " 'lagvca',\n",
              " 'lagwca',\n",
              " 'lagxca',\n",
              " 'lagyca',\n",
              " 'lagzca',\n",
              " 'lagáca',\n",
              " 'lagâca',\n",
              " 'lagàca',\n",
              " 'lagãca',\n",
              " 'lagéca',\n",
              " 'lagêca',\n",
              " 'lagíca',\n",
              " 'lagîca',\n",
              " 'lagóca',\n",
              " 'lagôca',\n",
              " 'lagõca',\n",
              " 'lagúca',\n",
              " 'lagûca',\n",
              " 'lagçca',\n",
              " 'lagiaa',\n",
              " 'lagiba',\n",
              " 'lagica',\n",
              " 'lagida',\n",
              " 'lagiea',\n",
              " 'lagifa',\n",
              " 'lagiga',\n",
              " 'lagiha',\n",
              " 'lagiia',\n",
              " 'lagija',\n",
              " 'lagika',\n",
              " 'lagila',\n",
              " 'lagima',\n",
              " 'lagina',\n",
              " 'lagioa',\n",
              " 'lagipa',\n",
              " 'lagiqa',\n",
              " 'lagira',\n",
              " 'lagisa',\n",
              " 'lagita',\n",
              " 'lagiua',\n",
              " 'lagiva',\n",
              " 'lagiwa',\n",
              " 'lagixa',\n",
              " 'lagiya',\n",
              " 'lagiza',\n",
              " 'lagiáa',\n",
              " 'lagiâa',\n",
              " 'lagiàa',\n",
              " 'lagiãa',\n",
              " 'lagiéa',\n",
              " 'lagiêa',\n",
              " 'lagiía',\n",
              " 'lagiîa',\n",
              " 'lagióa',\n",
              " 'lagiôa',\n",
              " 'lagiõa',\n",
              " 'lagiúa',\n",
              " 'lagiûa',\n",
              " 'lagiça',\n",
              " 'lagica',\n",
              " 'lagicb',\n",
              " 'lagicc',\n",
              " 'lagicd',\n",
              " 'lagice',\n",
              " 'lagicf',\n",
              " 'lagicg',\n",
              " 'lagich',\n",
              " 'lagici',\n",
              " 'lagicj',\n",
              " 'lagick',\n",
              " 'lagicl',\n",
              " 'lagicm',\n",
              " 'lagicn',\n",
              " 'lagico',\n",
              " 'lagicp',\n",
              " 'lagicq',\n",
              " 'lagicr',\n",
              " 'lagics',\n",
              " 'lagict',\n",
              " 'lagicu',\n",
              " 'lagicv',\n",
              " 'lagicw',\n",
              " 'lagicx',\n",
              " 'lagicy',\n",
              " 'lagicz',\n",
              " 'lagicá',\n",
              " 'lagicâ',\n",
              " 'lagicà',\n",
              " 'lagicã',\n",
              " 'lagicé',\n",
              " 'lagicê',\n",
              " 'lagicí',\n",
              " 'lagicî',\n",
              " 'lagicó',\n",
              " 'lagicô',\n",
              " 'lagicõ',\n",
              " 'lagicú',\n",
              " 'lagicû',\n",
              " 'lagicç',\n",
              " 'lagicaa',\n",
              " 'lagicab',\n",
              " 'lagicac',\n",
              " 'lagicad',\n",
              " 'lagicae',\n",
              " 'lagicaf',\n",
              " 'lagicag',\n",
              " 'lagicah',\n",
              " 'lagicai',\n",
              " 'lagicaj',\n",
              " 'lagicak',\n",
              " 'lagical',\n",
              " 'lagicam',\n",
              " 'lagican',\n",
              " 'lagicao',\n",
              " 'lagicap',\n",
              " 'lagicaq',\n",
              " 'lagicar',\n",
              " 'lagicas',\n",
              " 'lagicat',\n",
              " 'lagicau',\n",
              " 'lagicav',\n",
              " 'lagicaw',\n",
              " 'lagicax',\n",
              " 'lagicay',\n",
              " 'lagicaz',\n",
              " 'lagicaá',\n",
              " 'lagicaâ',\n",
              " 'lagicaà',\n",
              " 'lagicaã',\n",
              " 'lagicaé',\n",
              " 'lagicaê',\n",
              " 'lagicaí',\n",
              " 'lagicaî',\n",
              " 'lagicaó',\n",
              " 'lagicaô',\n",
              " 'lagicaõ',\n",
              " 'lagicaú',\n",
              " 'lagicaû',\n",
              " 'lagicaç']"
            ]
          },
          "metadata": {},
          "execution_count": 54
        }
      ]
    },
    {
      "cell_type": "markdown",
      "source": [
        "**Improving gerador_palavras method**"
      ],
      "metadata": {
        "id": "3bP_M56ezeZr"
      }
    },
    {
      "cell_type": "code",
      "source": [
        "def gerador_palavras(palavra):\n",
        "  fatias = []\n",
        "  for i in range(len(palavra) + 1):\n",
        "    fatias.append((palavra[:i], palavra[i:]))\n",
        "    palavras_geradas1 = insere_letras(fatias)\n",
        "    palavras_geradas2 = deleting_characters(fatias)\n",
        "    palavras_geradas3 = changing_characters(fatias)\n",
        "  palavras_geradas = palavras_geradas1 + palavras_geradas2 + palavras_geradas3\n",
        "  return palavras_geradas"
      ],
      "metadata": {
        "id": "ziRPzh0ey_xh"
      },
      "execution_count": null,
      "outputs": []
    },
    {
      "cell_type": "code",
      "source": [
        "corretor(\"lagica\")"
      ],
      "metadata": {
        "colab": {
          "base_uri": "https://localhost:8080/",
          "height": 35
        },
        "id": "5zPZc7Jzzx3d",
        "outputId": "1528c379-1929-415e-bd40-fc32f2a31817"
      },
      "execution_count": null,
      "outputs": [
        {
          "output_type": "execute_result",
          "data": {
            "text/plain": [
              "'lógica'"
            ],
            "application/vnd.google.colaboratory.intrinsic+json": {
              "type": "string"
            }
          },
          "metadata": {},
          "execution_count": 56
        }
      ]
    },
    {
      "cell_type": "code",
      "source": [
        "avaliador(lista_teste)"
      ],
      "metadata": {
        "colab": {
          "base_uri": "https://localhost:8080/"
        },
        "id": "t2uOVndQz1Vh",
        "outputId": "71cb09ee-3c09-420d-d754-806088c3ab06"
      },
      "execution_count": null,
      "outputs": [
        {
          "output_type": "stream",
          "name": "stdout",
          "text": [
            "76.34% de 186 palavras\n"
          ]
        }
      ]
    },
    {
      "cell_type": "markdown",
      "source": [
        "# Inverting Letters Operation"
      ],
      "metadata": {
        "id": "gVp02-RO2-kW"
      }
    },
    {
      "cell_type": "code",
      "source": [
        "#We'll do Left + Right[1] + Right[0] + Right[2:]"
      ],
      "metadata": {
        "id": "g82pXBXJ14Nh"
      },
      "execution_count": null,
      "outputs": []
    },
    {
      "cell_type": "code",
      "source": [
        "def gerador_palavras4(palavra):\n",
        "  fatias = []\n",
        "  for i in range(len(palavra)+1):\n",
        "    fatias.append((palavra[:i] , palavra[i:]))\n",
        "  palavras_geradas4 = inverting_characters(fatias)\n",
        "  return(palavras_geradas4)\n",
        "\n",
        "def inverting_characters(fatias):\n",
        "  new_words = []\n",
        "  for Esq, Dir in fatias:\n",
        "    if len(Dir) > 1:\n",
        "      new_words.append(Esq + Dir[1] + Dir[0] + Dir[2:])\n",
        "  return(new_words)"
      ],
      "metadata": {
        "id": "4XakytkM3SaY"
      },
      "execution_count": null,
      "outputs": []
    },
    {
      "cell_type": "code",
      "source": [
        "gerador_palavras4(\"lgóica\")"
      ],
      "metadata": {
        "colab": {
          "base_uri": "https://localhost:8080/"
        },
        "id": "eC8Nnaac3wXG",
        "outputId": "f250a14b-cd43-416b-cdad-11ee1f95faab"
      },
      "execution_count": null,
      "outputs": [
        {
          "output_type": "execute_result",
          "data": {
            "text/plain": [
              "['glóica', 'lógica', 'lgióca', 'lgócia', 'lgóiac']"
            ]
          },
          "metadata": {},
          "execution_count": 60
        }
      ]
    },
    {
      "cell_type": "markdown",
      "source": [
        "**Improving gerador_palavras method**"
      ],
      "metadata": {
        "id": "GXXbc6RW5U92"
      }
    },
    {
      "cell_type": "code",
      "source": [
        "def gerador_palavras(palavra):\n",
        "  fatias = []\n",
        "  for i in range(len(palavra) + 1):\n",
        "    fatias.append((palavra[:i], palavra[i:]))\n",
        "    palavras_geradas1 = insere_letras(fatias)\n",
        "    palavras_geradas2 = deleting_characters(fatias)\n",
        "    palavras_geradas3 = changing_characters(fatias)\n",
        "    palavras_geradas4 = inverting_characters(fatias)\n",
        "  palavras_geradas = palavras_geradas1 + palavras_geradas2 + palavras_geradas3 + palavras_geradas4\n",
        "  return palavras_geradas"
      ],
      "metadata": {
        "id": "A8-Y8IdW32Bx"
      },
      "execution_count": null,
      "outputs": []
    },
    {
      "cell_type": "code",
      "source": [
        "corretor(\"lgóica\")"
      ],
      "metadata": {
        "colab": {
          "base_uri": "https://localhost:8080/",
          "height": 35
        },
        "id": "dIXMMPwU5eDz",
        "outputId": "b7c365b9-42e2-4d9d-eb58-bfde1fe0c0ed"
      },
      "execution_count": null,
      "outputs": [
        {
          "output_type": "execute_result",
          "data": {
            "text/plain": [
              "'lógica'"
            ],
            "application/vnd.google.colaboratory.intrinsic+json": {
              "type": "string"
            }
          },
          "metadata": {},
          "execution_count": 62
        }
      ]
    },
    {
      "cell_type": "code",
      "source": [
        "avaliador(lista_teste)"
      ],
      "metadata": {
        "colab": {
          "base_uri": "https://localhost:8080/"
        },
        "id": "Epy5j3po5k81",
        "outputId": "035ce136-233c-4726-8114-1e62a4f47755"
      },
      "execution_count": null,
      "outputs": [
        {
          "output_type": "stream",
          "name": "stdout",
          "text": [
            "76.34% de 186 palavras\n"
          ]
        }
      ]
    },
    {
      "cell_type": "markdown",
      "source": [
        "# Improving Avaliador()"
      ],
      "metadata": {
        "id": "EhSPvM-s7Ila"
      }
    },
    {
      "cell_type": "code",
      "source": [
        "def avaliador(testes, vocabulario):\n",
        "  numero_palavras = len(testes)\n",
        "  acertou = 0\n",
        "  desconhecida = 0\n",
        "  for correta, errada in testes:\n",
        "    if corretor(errada) == correta:\n",
        "      acertou = acertou +1\n",
        "    else: \n",
        "      desconhecida += (correta not in vocabulario)\n",
        "      #contador desconhecida é incrementado quando a palavra correta não está no vocabulário\n",
        "  taxa_acerto = round(acertou*100/numero_palavras, 2)\n",
        "  taxa_desconhecida = round(desconhecida*100/numero_palavras, 2)\n",
        "  print(f\"{taxa_acerto}% de {numero_palavras} palavras, desconhecidas é {taxa_desconhecida}%\")"
      ],
      "metadata": {
        "id": "61iwbdGY57W8"
      },
      "execution_count": null,
      "outputs": []
    },
    {
      "cell_type": "code",
      "source": [
        "vocabulario = set(n_words_list)\n",
        "avaliador(lista_teste, vocabulario)"
      ],
      "metadata": {
        "colab": {
          "base_uri": "https://localhost:8080/"
        },
        "id": "oJxyRxx_7i4h",
        "outputId": "ac94e864-d9c3-4dd7-bd5c-098c05874143"
      },
      "execution_count": null,
      "outputs": [
        {
          "output_type": "stream",
          "name": "stdout",
          "text": [
            "76.34% de 186 palavras, desconhecidas é 6.99%\n"
          ]
        }
      ]
    },
    {
      "cell_type": "markdown",
      "source": [
        "# Creating a better Gerador()"
      ],
      "metadata": {
        "id": "u97FVwrR8oT9"
      }
    },
    {
      "cell_type": "code",
      "source": [
        "#essa função pode corrigir palavras que contenham dois erros de digitação\n",
        "#ela chama novamente o gerador de palavras para as palavras geradas primeiramente, corrigindo o segundo erro\n",
        "def gerador_turbinado(palavras_geradas):\n",
        "  novas_palavras = []\n",
        "  for palavra in palavras_geradas:\n",
        "    novas_palavras += gerador_palavras(palavra)\n",
        "  return novas_palavras"
      ],
      "metadata": {
        "id": "mlhXK0sU8E0I"
      },
      "execution_count": null,
      "outputs": []
    },
    {
      "cell_type": "code",
      "source": [
        "palavras_g = gerador_turbinado(gerador_palavras(\"loigica\"))\n",
        "\"lógica\" in palavras_g"
      ],
      "metadata": {
        "colab": {
          "base_uri": "https://localhost:8080/"
        },
        "id": "uT6-ksrZ92uI",
        "outputId": "49f8b3cc-2389-4473-959a-1a992e4fa557"
      },
      "execution_count": null,
      "outputs": [
        {
          "output_type": "execute_result",
          "data": {
            "text/plain": [
              "True"
            ]
          },
          "metadata": {},
          "execution_count": 80
        }
      ]
    },
    {
      "cell_type": "code",
      "source": [
        "len(palavras_g)"
      ],
      "metadata": {
        "colab": {
          "base_uri": "https://localhost:8080/"
        },
        "id": "LD9wgv1I-GIx",
        "outputId": "96c4f6a4-6340-4e4b-ff7b-c95158a4f5e8"
      },
      "execution_count": null,
      "outputs": [
        {
          "output_type": "execute_result",
          "data": {
            "text/plain": [
              "456662"
            ]
          },
          "metadata": {},
          "execution_count": 81
        }
      ]
    },
    {
      "cell_type": "code",
      "source": [
        "#fazendo desta forma, uma quantidade muito grande de palavras é gerada, esse número pode ser reduzido"
      ],
      "metadata": {
        "id": "oiblRRTx--TG"
      },
      "execution_count": null,
      "outputs": []
    },
    {
      "cell_type": "markdown",
      "source": [
        "**Melhorando a função Corretor()**"
      ],
      "metadata": {
        "id": "4CcrUieq_rw7"
      }
    },
    {
      "cell_type": "code",
      "source": [
        "def novo_corretor(palavra):\n",
        "  palavras_geradas = gerador_palavras(palavra)\n",
        "  palavras_turbinado = gerador_turbinado(palavras_geradas)\n",
        "  todas_palavras = set(palavras_geradas + palavras_turbinado)\n",
        "  candidatos = [palavra]\n",
        "  for palavra in todas_palavras:\n",
        "    if palavra in vocabulario:\n",
        "      candidatos.append(palavra)\n",
        "  palavra_correta = max(candidatos, key=probabilidade)\n",
        "  return palavra_correta"
      ],
      "metadata": {
        "id": "ELm6zqXJ_Kam"
      },
      "execution_count": null,
      "outputs": []
    },
    {
      "cell_type": "code",
      "source": [
        "  #para diminuir o numero de execuções (já que o numero de palavras geradas é muito alto)\n",
        "  #fez-se um for que incluir numa lista somente palavras que já estejam no vocabulário, ou seja,\n",
        "  #o método só testará a probabilidade de candidatos possíveis, palavras que estejam no vocabulário\n",
        "  #na lista candidatos foi colocada também a palavra digitada pois se o corretor não acha nenhuma correção possível, ele a retorna"
      ],
      "metadata": {
        "id": "NUZwKEwY_-IF"
      },
      "execution_count": null,
      "outputs": []
    },
    {
      "cell_type": "code",
      "source": [
        "novo_corretor(\"logiica\")"
      ],
      "metadata": {
        "colab": {
          "base_uri": "https://localhost:8080/",
          "height": 35
        },
        "id": "z0OnKIVhBBFI",
        "outputId": "b51456e4-c9f5-4c02-9242-c4f8e9d1a563"
      },
      "execution_count": null,
      "outputs": [
        {
          "output_type": "execute_result",
          "data": {
            "text/plain": [
              "'lógica'"
            ],
            "application/vnd.google.colaboratory.intrinsic+json": {
              "type": "string"
            }
          },
          "metadata": {},
          "execution_count": 92
        }
      ]
    },
    {
      "cell_type": "markdown",
      "source": [
        "# Evaluating the new Corretor()"
      ],
      "metadata": {
        "id": "9yO24OjlCn3f"
      }
    },
    {
      "cell_type": "code",
      "source": [
        "def avaliador(testes, vocabulario):\n",
        "  numero_palavras = len(testes)\n",
        "  acertou = 0\n",
        "  desconhecida = 0\n",
        "  for correta, errada in testes:\n",
        "    if corretor(errada) == correta:\n",
        "      acertou = acertou +1\n",
        "    else: \n",
        "      desconhecida += (correta not in vocabulario)\n",
        "      #contador desconhecida é incrementado quando a palavra correta não está no vocabulário\n",
        "  taxa_acerto = round(acertou*100/numero_palavras, 2)\n",
        "  taxa_desconhecida = round(desconhecida*100/numero_palavras, 2)\n",
        "  print(f\"{taxa_acerto}% de {numero_palavras} palavras, desconhecidas é {taxa_desconhecida}%\")"
      ],
      "metadata": {
        "id": "5hUdVMduCJ9d"
      },
      "execution_count": null,
      "outputs": []
    },
    {
      "cell_type": "code",
      "source": [
        "avaliador(lista_teste, vocabulario)"
      ],
      "metadata": {
        "colab": {
          "base_uri": "https://localhost:8080/"
        },
        "id": "zs7G71BrCu0_",
        "outputId": "94b986a5-c706-4f4e-83bb-255db0154fa3"
      },
      "execution_count": null,
      "outputs": [
        {
          "output_type": "stream",
          "name": "stdout",
          "text": [
            "76.34% de 186 palavras, desconhecidas é 6.99%\n"
          ]
        }
      ]
    },
    {
      "cell_type": "code",
      "source": [
        "corretor(\"gbriel\")"
      ],
      "metadata": {
        "colab": {
          "base_uri": "https://localhost:8080/",
          "height": 35
        },
        "id": "lQtxhhBIDG3s",
        "outputId": "244d8ab5-7281-4d3e-95c0-cd10e8a17b71"
      },
      "execution_count": null,
      "outputs": [
        {
          "output_type": "execute_result",
          "data": {
            "text/plain": [
              "'gabriel'"
            ],
            "application/vnd.google.colaboratory.intrinsic+json": {
              "type": "string"
            }
          },
          "metadata": {},
          "execution_count": 103
        }
      ]
    },
    {
      "cell_type": "code",
      "source": [
        ""
      ],
      "metadata": {
        "id": "6qDeekNXE2IG"
      },
      "execution_count": null,
      "outputs": []
    }
  ]
}